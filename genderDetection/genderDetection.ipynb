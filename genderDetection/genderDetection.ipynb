{
 "cells": [
  {
   "cell_type": "code",
   "execution_count": 1,
   "metadata": {},
   "outputs": [
    {
     "name": "stderr",
     "output_type": "stream",
     "text": [
      "Using TensorFlow backend.\n"
     ]
    }
   ],
   "source": [
    "import numpy as np \n",
    "import pandas as pd \n",
    "import os, sys\n",
    "from IPython.display import display\n",
    "from IPython.display import Image as _Imgdis\n",
    "from PIL import Image\n",
    "import numpy as np\n",
    "from time import time\n",
    "from time import sleep\n",
    "from scipy import ndimage\n",
    "from keras.preprocessing.image import ImageDataGenerator, array_to_img, img_to_array, load_img\n",
    "import re\n",
    "import matplotlib.pyplot as plt\n",
    "import seaborn as sns\n",
    "from sklearn.model_selection import train_test_split\n",
    "from keras.utils import to_categorical\n",
    "from sklearn.metrics import confusion_matrix\n",
    "import itertools\n",
    "from keras.models import Sequential\n",
    "from keras.layers import Dense, Dropout, Flatten, Conv2D, MaxPool2D\n",
    "from keras.optimizers import RMSprop,Adam\n",
    "from keras.preprocessing.image import ImageDataGenerator\n",
    "from keras.callbacks import ReduceLROnPlateau\n",
    "from keras.utils.np_utils import to_categorical # convert to one-hot-encoding"
   ]
  },
  {
   "cell_type": "code",
   "execution_count": 13,
   "metadata": {},
   "outputs": [
    {
     "name": "stdout",
     "output_type": "stream",
     "text": [
      "Average Height: 144.8036638789327\n",
      "Max Height: 657\n",
      "Min Height: 18\n",
      "\n",
      "\n",
      "Average Width: 91.27817602548785\n",
      "Max Width: 472\n",
      "Min Width: 16\n"
     ]
    }
   ],
   "source": [
    "from PIL import Image\n",
    "import numpy as np\n",
    "import os\n",
    "from random import shuffle\n",
    "import matplotlib.pyplot as plt\n",
    "\n",
    "DIR = './gender/e'\n",
    "\n",
    "def get_size_statistics():\n",
    "    heights = []\n",
    "    widths = []\n",
    "    img_count = 0\n",
    "    for img in os.listdir(DIR):\n",
    "        path = os.path.join(DIR, img)\n",
    "        if \"DS_Store\" not in path:\n",
    "            data = np.array(Image.open(path))\n",
    "            heights.append(data.shape[0])\n",
    "            widths.append(data.shape[1])\n",
    "            img_count += 1\n",
    "    avg_height = sum(heights) / len(heights)\n",
    "    avg_width = sum(widths) / len(widths)\n",
    "    print(\"Average Height: \" + str(avg_height))\n",
    "    print(\"Max Height: \" + str(max(heights)))\n",
    "    print(\"Min Height: \" + str(min(heights)))\n",
    "    print('\\n')\n",
    "    print(\"Average Width: \" + str(avg_width))\n",
    "    print(\"Max Width: \" + str(max(widths)))\n",
    "    print(\"Min Width: \" + str(min(widths)))\n",
    "\n",
    "get_size_statistics()"
   ]
  },
  {
   "cell_type": "code",
   "execution_count": 2,
   "metadata": {},
   "outputs": [
    {
     "name": "stdout",
     "output_type": "stream",
     "text": [
      "e\n",
      "k\n"
     ]
    }
   ],
   "source": [
    "os.listdir(path='.')\n",
    "listOfFile = os.listdir(\"./gender\")\n",
    "x=len(listOfFile)\n",
    "for i in range(0,x):\n",
    "    print(listOfFile[i])"
   ]
  },
  {
   "cell_type": "code",
   "execution_count": 3,
   "metadata": {},
   "outputs": [
    {
     "name": "stdout",
     "output_type": "stream",
     "text": [
      "./gender/e\n",
      "./gender/k\n",
      "Working with 10079 images\n",
      "./gender/e/001 (103).jpg\n"
     ]
    }
   ],
   "source": [
    "onlyfiles=[]\n",
    "x=len(listOfFile)\n",
    "for i in range(0,x):\n",
    "    folder=\"./gender/\"+listOfFile[i]\n",
    "    print(folder)\n",
    "    onlyfiles2 = [f for f in os.listdir(folder) if os.path.isfile(os.path.join(folder, f))]\n",
    "    for t in range(0, len(onlyfiles2)):\n",
    "        onlyfiles.append(folder+\"/\"+onlyfiles2[t])\n",
    "print(\"Working with {0} images\".format(len(onlyfiles)))\n",
    "print(onlyfiles[5])"
   ]
  },
  {
   "cell_type": "code",
   "execution_count": 14,
   "metadata": {},
   "outputs": [],
   "source": [
    "from PIL import Image\n",
    "for t in range(0, len(onlyfiles)):\n",
    "    img = Image.open(onlyfiles[t])\n",
    "    img = img.resize((256,256))   # image resizing"
   ]
  },
  {
   "cell_type": "code",
   "execution_count": 128,
   "metadata": {},
   "outputs": [
    {
     "name": "stdout",
     "output_type": "stream",
     "text": [
      "Files in train_files: 10079\n",
      "3000 images to array\n",
      "6000 images to array\n",
      "9000 images to array\n",
      "All images to array!\n"
     ]
    }
   ],
   "source": [
    "from scipy import ndimage\n",
    "from keras.preprocessing.image import ImageDataGenerator, array_to_img, img_to_array, load_img\n",
    "import re\n",
    "\n",
    "train_files = []\n",
    "y_train = []\n",
    "i=0\n",
    "for _file in onlyfiles:\n",
    "    train_files.append(_file)\n",
    "    r1 = re.findall(\"\\/.\\/\", _file)\n",
    "    mystring = str(r1)\n",
    "    r2 = re.findall(\"k|e\", mystring)\n",
    "    y_train.append(r2)\n",
    "    i=i+1\n",
    "    \n",
    "print(\"Files in train_files: %d\" % len(train_files))\n",
    "\n",
    "# Original Dimensions\n",
    "image_width = 256\n",
    "image_height = 256\n",
    "ratio = 4\n",
    "\n",
    "image_width = int(image_width / ratio)\n",
    "image_height = int(image_height / ratio)\n",
    "\n",
    "channels = 3\n",
    "nb_classes = 1\n",
    "\n",
    "dataset = np.ndarray(shape=(len(train_files), channels, image_height, image_width),\n",
    "                     dtype=np.float32)\n",
    "\n",
    "i = 0\n",
    "for _file in train_files:\n",
    "    img = load_img(_file)\n",
    "    img = img.resize((256,256))\n",
    "    img.thumbnail((image_width, image_height))\n",
    "    # Convert to Numpy Array\n",
    "    x = img_to_array(img)  \n",
    "    x = x.reshape((3, 64, 64))\n",
    "    # Normalize\n",
    "    #x = (x - 128.0) / 128.0\n",
    "    dataset[i] = x\n",
    "    i += 1\n",
    "    if i % 3000 == 0:\n",
    "        print(\"%d images to array\" % i)\n",
    "print(\"All images to array!\")"
   ]
  },
  {
   "cell_type": "code",
   "execution_count": 4,
   "metadata": {},
   "outputs": [],
   "source": [
    "#y_train=np.array(y_train)\n",
    "#np.save('y_train.npy', y_train)\n",
    "#np.save('dataset.npy', dataset)\n",
    "dataset=np.load('dataset.npy')\n",
    "y_train=np.load('y_train.npy')"
   ]
  },
  {
   "cell_type": "code",
   "execution_count": 5,
   "metadata": {},
   "outputs": [
    {
     "name": "stdout",
     "output_type": "stream",
     "text": [
      "x train:  (8063, 3, 64, 64)\n",
      "x test:  (2016, 3, 64, 64)\n"
     ]
    }
   ],
   "source": [
    "#Splitting \n",
    "X_train, X_test, y_train, y_test = train_test_split(dataset, y_train, test_size=0.2, random_state=33)\n",
    "print(\"x train: \",X_train.shape)\n",
    "print(\"x test: \",X_test.shape)"
   ]
  },
  {
   "cell_type": "code",
   "execution_count": 6,
   "metadata": {},
   "outputs": [
    {
     "name": "stdout",
     "output_type": "stream",
     "text": [
      "X_train shape:  (8063, 3, 64, 64)\n",
      "X_test shape:  (2016, 3, 64, 64)\n"
     ]
    },
    {
     "name": "stderr",
     "output_type": "stream",
     "text": [
      "C:\\Users\\mert5\\Anaconda3\\lib\\site-packages\\sklearn\\preprocessing\\label.py:111: DataConversionWarning: A column-vector y was passed when a 1d array was expected. Please change the shape of y to (n_samples, ), for example using ravel().\n",
      "  y = column_or_1d(y, warn=True)\n",
      "C:\\Users\\mert5\\Anaconda3\\lib\\site-packages\\sklearn\\preprocessing\\label.py:111: DataConversionWarning: A column-vector y was passed when a 1d array was expected. Please change the shape of y to (n_samples, ), for example using ravel().\n",
      "  y = column_or_1d(y, warn=True)\n"
     ]
    }
   ],
   "source": [
    "# Normalize the data\n",
    "\n",
    "X_train = X_train / 255.0\n",
    "X_test = X_test / 255.0\n",
    "\n",
    "#cnn için gerekli one hot encoding\n",
    "\n",
    "from sklearn.preprocessing import LabelEncoder\n",
    "import numpy as np\n",
    "\n",
    "y_train = np.array(y_train)\n",
    "label_encoder = LabelEncoder()\n",
    "vec = label_encoder.fit_transform(y_train)\n",
    "y_train = to_categorical(vec)\n",
    "\n",
    "y_test = np.array(y_test)\n",
    "label_encoder = LabelEncoder()\n",
    "vec1 = label_encoder.fit_transform(y_test)\n",
    "y_test = to_categorical(vec1)\n",
    "\n",
    "#y_train = y_train / 255.0\n",
    "\n",
    "print(\"X_train shape: \",X_train.shape)\n",
    "print(\"X_test shape: \",X_test.shape)"
   ]
  },
  {
   "cell_type": "code",
   "execution_count": 7,
   "metadata": {},
   "outputs": [
    {
     "name": "stdout",
     "output_type": "stream",
     "text": [
      "x train:  (8063, 64, 64, 3)\n",
      "x test:  (2016, 64, 64, 3)\n"
     ]
    }
   ],
   "source": [
    "#reshape data to fit model\n",
    "x_train = X_train.reshape(8063,64,64,3)\n",
    "x_test = X_test.reshape(2016,64,64,3)\n",
    "print(\"x train: \",x_train.shape)\n",
    "print(\"x test: \",x_test.shape)"
   ]
  },
  {
   "cell_type": "code",
   "execution_count": 8,
   "metadata": {},
   "outputs": [
    {
     "name": "stdout",
     "output_type": "stream",
     "text": [
      "x train:  (8063, 64, 64, 3)\n",
      "x test:  (2016, 64, 64, 3)\n",
      "y train:  (8063, 2)\n",
      "y test:  (2016, 2)\n"
     ]
    }
   ],
   "source": [
    "print(\"x train: \",x_train.shape)\n",
    "print(\"x test: \",x_test.shape)\n",
    "print(\"y train: \",y_train.shape)\n",
    "print(\"y test: \",y_test.shape)"
   ]
  },
  {
   "cell_type": "code",
   "execution_count": 9,
   "metadata": {},
   "outputs": [
    {
     "name": "stdout",
     "output_type": "stream",
     "text": [
      "WARNING:tensorflow:From C:\\Users\\mert5\\Anaconda3\\lib\\site-packages\\tensorflow\\python\\framework\\op_def_library.py:263: colocate_with (from tensorflow.python.framework.ops) is deprecated and will be removed in a future version.\n",
      "Instructions for updating:\n",
      "Colocations handled automatically by placer.\n",
      "WARNING:tensorflow:From C:\\Users\\mert5\\Anaconda3\\lib\\site-packages\\keras\\backend\\tensorflow_backend.py:3445: calling dropout (from tensorflow.python.ops.nn_ops) with keep_prob is deprecated and will be removed in a future version.\n",
      "Instructions for updating:\n",
      "Please use `rate` instead of `keep_prob`. Rate should be set to `rate = 1 - keep_prob`.\n"
     ]
    }
   ],
   "source": [
    "model = Sequential()\n",
    "model.add(Conv2D(filters = 8, kernel_size = (5,5),padding = 'Same', \n",
    "                 activation ='relu', input_shape = (64,64,3)))\n",
    "model.add(MaxPool2D(pool_size=(2,2)))\n",
    "model.add(Dropout(0.25))\n",
    "model.add(Conv2D(filters = 16, kernel_size = (3,3),padding = 'Same', \n",
    "                 activation ='relu'))\n",
    "model.add(MaxPool2D(pool_size=(2,2), strides=(2,2)))\n",
    "model.add(Dropout(0.25))\n",
    "model.add(Flatten())\n",
    "model.add(Dense(80, activation = \"relu\"))\n",
    "model.add(Dropout(0.5))\n",
    "model.add(Dense(2, activation = \"softmax\"))  #10 y'deki class sayısı"
   ]
  },
  {
   "cell_type": "code",
   "execution_count": 10,
   "metadata": {},
   "outputs": [],
   "source": [
    "optimizer = Adam(lr=0.001, beta_1=0.9, beta_2=0.999)"
   ]
  },
  {
   "cell_type": "code",
   "execution_count": 11,
   "metadata": {},
   "outputs": [],
   "source": [
    "model.compile(optimizer = optimizer , loss = \"categorical_crossentropy\", metrics=[\"accuracy\"])"
   ]
  },
  {
   "cell_type": "code",
   "execution_count": 12,
   "metadata": {},
   "outputs": [],
   "source": [
    "epochs = 70\n",
    "batch_size = 125"
   ]
  },
  {
   "cell_type": "code",
   "execution_count": 13,
   "metadata": {},
   "outputs": [],
   "source": [
    "datagen = ImageDataGenerator(\n",
    "        featurewise_center=False,  \n",
    "        samplewise_center=False, \n",
    "        featurewise_std_normalization=False,\n",
    "        samplewise_std_normalization=False,  \n",
    "        zca_whitening=False,  \n",
    "        rotation_range=0.5,  \n",
    "        zoom_range = 0.5,\n",
    "        width_shift_range=0.5, \n",
    "        height_shift_range=0.5,  \n",
    "        horizontal_flip=False,\n",
    "        vertical_flip=False)  \n",
    "\n",
    "datagen.fit(x_train)"
   ]
  },
  {
   "cell_type": "code",
   "execution_count": 14,
   "metadata": {},
   "outputs": [
    {
     "name": "stdout",
     "output_type": "stream",
     "text": [
      "WARNING:tensorflow:From C:\\Users\\mert5\\Anaconda3\\lib\\site-packages\\tensorflow\\python\\ops\\math_ops.py:3066: to_int32 (from tensorflow.python.ops.math_ops) is deprecated and will be removed in a future version.\n",
      "Instructions for updating:\n",
      "Use tf.cast instead.\n",
      "Epoch 1/70\n",
      "64/64 [==============================] - 18s 278ms/step - loss: 0.6858 - acc: 0.5646 - val_loss: 0.6662 - val_acc: 0.5784\n",
      "Epoch 2/70\n",
      "64/64 [==============================] - 13s 204ms/step - loss: 0.6624 - acc: 0.6118 - val_loss: 0.6281 - val_acc: 0.6463\n",
      "Epoch 3/70\n",
      "64/64 [==============================] - 13s 201ms/step - loss: 0.6542 - acc: 0.6263 - val_loss: 0.6377 - val_acc: 0.6414\n",
      "Epoch 4/70\n",
      "64/64 [==============================] - 13s 202ms/step - loss: 0.6488 - acc: 0.6262 - val_loss: 0.6160 - val_acc: 0.6602\n",
      "Epoch 5/70\n",
      "64/64 [==============================] - 13s 202ms/step - loss: 0.6485 - acc: 0.6289 - val_loss: 0.6243 - val_acc: 0.6468\n",
      "Epoch 6/70\n",
      "64/64 [==============================] - 13s 202ms/step - loss: 0.6440 - acc: 0.6360 - val_loss: 0.6158 - val_acc: 0.6677\n",
      "Epoch 7/70\n",
      "64/64 [==============================] - 13s 204ms/step - loss: 0.6402 - acc: 0.6434 - val_loss: 0.6276 - val_acc: 0.6275\n",
      "Epoch 8/70\n",
      "64/64 [==============================] - 13s 204ms/step - loss: 0.6428 - acc: 0.6407 - val_loss: 0.6079 - val_acc: 0.6657\n",
      "Epoch 9/70\n",
      "64/64 [==============================] - 13s 200ms/step - loss: 0.6389 - acc: 0.6387 - val_loss: 0.6134 - val_acc: 0.6577\n",
      "Epoch 10/70\n",
      "64/64 [==============================] - 13s 201ms/step - loss: 0.6396 - acc: 0.6422 - val_loss: 0.6256 - val_acc: 0.6265\n",
      "Epoch 11/70\n",
      "64/64 [==============================] - 13s 202ms/step - loss: 0.6377 - acc: 0.6405 - val_loss: 0.6215 - val_acc: 0.6766\n",
      "Epoch 12/70\n",
      "64/64 [==============================] - 13s 205ms/step - loss: 0.6294 - acc: 0.6512 - val_loss: 0.6018 - val_acc: 0.6582\n",
      "Epoch 13/70\n",
      "64/64 [==============================] - 13s 202ms/step - loss: 0.6340 - acc: 0.6404 - val_loss: 0.5991 - val_acc: 0.6751\n",
      "Epoch 14/70\n",
      "64/64 [==============================] - 13s 203ms/step - loss: 0.6360 - acc: 0.6444 - val_loss: 0.6090 - val_acc: 0.6672\n",
      "Epoch 15/70\n",
      "64/64 [==============================] - 13s 203ms/step - loss: 0.6268 - acc: 0.6531 - val_loss: 0.5918 - val_acc: 0.6820\n",
      "Epoch 16/70\n",
      "64/64 [==============================] - 13s 202ms/step - loss: 0.6390 - acc: 0.6453 - val_loss: 0.5839 - val_acc: 0.7034\n",
      "Epoch 17/70\n",
      "64/64 [==============================] - 13s 205ms/step - loss: 0.6262 - acc: 0.6551 - val_loss: 0.6051 - val_acc: 0.6567\n",
      "Epoch 18/70\n",
      "64/64 [==============================] - 13s 201ms/step - loss: 0.6260 - acc: 0.6526 - val_loss: 0.5916 - val_acc: 0.6944\n",
      "Epoch 19/70\n",
      "64/64 [==============================] - 14s 212ms/step - loss: 0.6352 - acc: 0.6460 - val_loss: 0.6104 - val_acc: 0.7059\n",
      "Epoch 20/70\n",
      "64/64 [==============================] - 14s 220ms/step - loss: 0.6229 - acc: 0.6518 - val_loss: 0.5845 - val_acc: 0.7063\n",
      "Epoch 21/70\n",
      "64/64 [==============================] - 14s 213ms/step - loss: 0.6300 - acc: 0.6487 - val_loss: 0.5928 - val_acc: 0.6865\n",
      "Epoch 22/70\n",
      "64/64 [==============================] - 14s 221ms/step - loss: 0.6244 - acc: 0.6530 - val_loss: 0.5812 - val_acc: 0.7183\n",
      "Epoch 23/70\n",
      "64/64 [==============================] - 14s 224ms/step - loss: 0.6193 - acc: 0.6680 - val_loss: 0.5773 - val_acc: 0.7128\n",
      "Epoch 24/70\n",
      "64/64 [==============================] - 13s 205ms/step - loss: 0.6251 - acc: 0.6552 - val_loss: 0.5814 - val_acc: 0.6984\n",
      "Epoch 25/70\n",
      "64/64 [==============================] - 13s 206ms/step - loss: 0.6145 - acc: 0.6728 - val_loss: 0.5810 - val_acc: 0.7128\n",
      "Epoch 26/70\n",
      "64/64 [==============================] - 13s 208ms/step - loss: 0.6151 - acc: 0.6672 - val_loss: 0.5672 - val_acc: 0.7098\n",
      "Epoch 27/70\n",
      "64/64 [==============================] - 14s 214ms/step - loss: 0.6183 - acc: 0.6595 - val_loss: 0.5996 - val_acc: 0.6959\n",
      "Epoch 28/70\n",
      "64/64 [==============================] - 14s 212ms/step - loss: 0.6112 - acc: 0.6730 - val_loss: 0.5765 - val_acc: 0.7044\n",
      "Epoch 29/70\n",
      "64/64 [==============================] - 13s 201ms/step - loss: 0.6120 - acc: 0.6683 - val_loss: 0.5603 - val_acc: 0.7277\n",
      "Epoch 30/70\n",
      "64/64 [==============================] - 13s 202ms/step - loss: 0.6089 - acc: 0.6737 - val_loss: 0.5589 - val_acc: 0.7302\n",
      "Epoch 31/70\n",
      "64/64 [==============================] - 13s 202ms/step - loss: 0.6080 - acc: 0.6691 - val_loss: 0.5659 - val_acc: 0.7202\n",
      "Epoch 32/70\n",
      "64/64 [==============================] - 13s 206ms/step - loss: 0.6161 - acc: 0.6712 - val_loss: 0.5712 - val_acc: 0.7252\n",
      "Epoch 33/70\n",
      "64/64 [==============================] - 13s 203ms/step - loss: 0.6086 - acc: 0.6699 - val_loss: 0.5787 - val_acc: 0.7173\n",
      "Epoch 34/70\n",
      "64/64 [==============================] - 13s 203ms/step - loss: 0.6085 - acc: 0.6721 - val_loss: 0.5644 - val_acc: 0.7044\n",
      "Epoch 35/70\n",
      "64/64 [==============================] - 14s 212ms/step - loss: 0.6010 - acc: 0.6821 - val_loss: 0.5489 - val_acc: 0.7307\n",
      "Epoch 36/70\n",
      "64/64 [==============================] - 13s 210ms/step - loss: 0.6078 - acc: 0.6704 - val_loss: 0.5494 - val_acc: 0.7217\n",
      "Epoch 37/70\n",
      "64/64 [==============================] - 13s 207ms/step - loss: 0.6063 - acc: 0.6733 - val_loss: 0.5559 - val_acc: 0.7188\n",
      "Epoch 38/70\n",
      "64/64 [==============================] - 13s 202ms/step - loss: 0.5968 - acc: 0.6865 - val_loss: 0.5716 - val_acc: 0.7073\n",
      "Epoch 39/70\n",
      "64/64 [==============================] - 13s 201ms/step - loss: 0.6022 - acc: 0.6788 - val_loss: 0.5569 - val_acc: 0.7272\n",
      "Epoch 40/70\n",
      "64/64 [==============================] - 13s 202ms/step - loss: 0.5999 - acc: 0.6785 - val_loss: 0.5486 - val_acc: 0.7262\n",
      "Epoch 41/70\n",
      "64/64 [==============================] - 13s 202ms/step - loss: 0.6023 - acc: 0.6744 - val_loss: 0.5467 - val_acc: 0.7346\n",
      "Epoch 42/70\n",
      "64/64 [==============================] - 13s 209ms/step - loss: 0.5942 - acc: 0.6824 - val_loss: 0.5478 - val_acc: 0.7188\n",
      "Epoch 43/70\n",
      "64/64 [==============================] - 13s 201ms/step - loss: 0.6091 - acc: 0.6724 - val_loss: 0.5554 - val_acc: 0.7257\n",
      "Epoch 44/70\n",
      "64/64 [==============================] - 13s 201ms/step - loss: 0.5924 - acc: 0.6921 - val_loss: 0.5391 - val_acc: 0.7460\n",
      "Epoch 45/70\n",
      "64/64 [==============================] - 13s 203ms/step - loss: 0.5890 - acc: 0.6884 - val_loss: 0.5373 - val_acc: 0.7560\n",
      "Epoch 46/70\n",
      "64/64 [==============================] - 13s 203ms/step - loss: 0.5899 - acc: 0.6913 - val_loss: 0.5641 - val_acc: 0.7004\n",
      "Epoch 47/70\n",
      "64/64 [==============================] - 13s 205ms/step - loss: 0.5932 - acc: 0.6916 - val_loss: 0.5410 - val_acc: 0.7307\n",
      "Epoch 48/70\n",
      "64/64 [==============================] - 13s 204ms/step - loss: 0.5946 - acc: 0.6922 - val_loss: 0.5415 - val_acc: 0.7505\n",
      "Epoch 49/70\n",
      "64/64 [==============================] - 13s 202ms/step - loss: 0.5912 - acc: 0.6857 - val_loss: 0.5542 - val_acc: 0.7366\n",
      "Epoch 50/70\n",
      "64/64 [==============================] - 13s 201ms/step - loss: 0.5955 - acc: 0.6818 - val_loss: 0.5315 - val_acc: 0.7490\n",
      "Epoch 51/70\n",
      "64/64 [==============================] - 13s 201ms/step - loss: 0.5819 - acc: 0.6952 - val_loss: 0.5254 - val_acc: 0.7450\n",
      "Epoch 52/70\n",
      "64/64 [==============================] - 13s 206ms/step - loss: 0.5992 - acc: 0.6854 - val_loss: 0.5453 - val_acc: 0.7336\n",
      "Epoch 53/70\n",
      "64/64 [==============================] - 13s 202ms/step - loss: 0.5883 - acc: 0.6963 - val_loss: 0.5184 - val_acc: 0.7540\n",
      "Epoch 54/70\n",
      "64/64 [==============================] - 13s 201ms/step - loss: 0.5835 - acc: 0.6937 - val_loss: 0.5250 - val_acc: 0.7540\n",
      "Epoch 55/70\n",
      "64/64 [==============================] - 13s 201ms/step - loss: 0.5902 - acc: 0.6853 - val_loss: 0.5246 - val_acc: 0.7411\n",
      "Epoch 56/70\n",
      "64/64 [==============================] - 13s 201ms/step - loss: 0.5835 - acc: 0.6969 - val_loss: 0.5315 - val_acc: 0.7460\n",
      "Epoch 57/70\n",
      "64/64 [==============================] - 13s 204ms/step - loss: 0.5833 - acc: 0.6918 - val_loss: 0.5390 - val_acc: 0.7312\n",
      "Epoch 58/70\n",
      "64/64 [==============================] - 13s 202ms/step - loss: 0.5908 - acc: 0.6939 - val_loss: 0.5421 - val_acc: 0.7411\n",
      "Epoch 59/70\n",
      "64/64 [==============================] - 13s 201ms/step - loss: 0.5844 - acc: 0.6874 - val_loss: 0.5375 - val_acc: 0.7396\n",
      "Epoch 60/70\n",
      "64/64 [==============================] - 13s 201ms/step - loss: 0.5767 - acc: 0.6982 - val_loss: 0.5327 - val_acc: 0.7416\n",
      "Epoch 61/70\n",
      "64/64 [==============================] - 13s 203ms/step - loss: 0.5767 - acc: 0.6957 - val_loss: 0.5289 - val_acc: 0.7421\n",
      "Epoch 62/70\n",
      "64/64 [==============================] - 13s 203ms/step - loss: 0.5802 - acc: 0.6989 - val_loss: 0.5266 - val_acc: 0.7416\n",
      "Epoch 63/70\n",
      "64/64 [==============================] - 13s 203ms/step - loss: 0.5837 - acc: 0.6991 - val_loss: 0.5255 - val_acc: 0.7520\n",
      "Epoch 64/70\n",
      "64/64 [==============================] - 13s 201ms/step - loss: 0.5770 - acc: 0.7007 - val_loss: 0.5268 - val_acc: 0.7460\n",
      "Epoch 65/70\n",
      "64/64 [==============================] - 13s 202ms/step - loss: 0.5764 - acc: 0.6984 - val_loss: 0.5403 - val_acc: 0.7173\n",
      "Epoch 66/70\n",
      "64/64 [==============================] - 13s 203ms/step - loss: 0.5858 - acc: 0.6914 - val_loss: 0.5344 - val_acc: 0.7401\n",
      "Epoch 67/70\n",
      "64/64 [==============================] - 13s 203ms/step - loss: 0.5877 - acc: 0.6932 - val_loss: 0.5410 - val_acc: 0.7351\n",
      "Epoch 68/70\n",
      "64/64 [==============================] - 13s 205ms/step - loss: 0.5774 - acc: 0.7000 - val_loss: 0.5236 - val_acc: 0.7475\n",
      "Epoch 69/70\n",
      "64/64 [==============================] - 13s 201ms/step - loss: 0.5829 - acc: 0.6953 - val_loss: 0.5185 - val_acc: 0.7440\n",
      "Epoch 70/70\n",
      "64/64 [==============================] - 13s 202ms/step - loss: 0.5723 - acc: 0.6963 - val_loss: 0.5255 - val_acc: 0.7381\n"
     ]
    }
   ],
   "source": [
    "history = model.fit_generator(datagen.flow(x_train,y_train, batch_size=batch_size),\n",
    "                              epochs = epochs, validation_data = (x_test,y_test), steps_per_epoch=x_train.shape[0] // batch_size)"
   ]
  },
  {
   "cell_type": "code",
   "execution_count": 17,
   "metadata": {},
   "outputs": [
    {
     "data": {
      "image/png": "[encoded data removed]",
      "text/plain": [
       "<Figure size 432x288 with 1 Axes>"
      ]
     },
     "metadata": {
      "needs_background": "light"
     },
     "output_type": "display_data"
    }
   ],
   "source": [
    "plt.plot(history.history['val_loss'], color='b', label=\"validation loss\")\n",
    "plt.title(\"Kayıp (yanlış tahmin) görseli\")\n",
    "plt.xlabel(\"Aşama sayısı\")\n",
    "plt.ylabel(\"Kayıp Oranı\")\n",
    "plt.legend()\n",
    "plt.show()"
   ]
  },
  {
   "cell_type": "code",
   "execution_count": 18,
   "metadata": {},
   "outputs": [
    {
     "data": {
      "image/png": "[encoded data removed]",
      "text/plain": [
       "<Figure size 576x576 with 2 Axes>"
      ]
     },
     "metadata": {
      "needs_background": "light"
     },
     "output_type": "display_data"
    }
   ],
   "source": [
    "Y_pred = model.predict(x_test)\n",
    "Y_pred_classes = np.argmax(Y_pred,axis = 1) \n",
    "Y_true = np.argmax(y_test,axis = 1) \n",
    "confusion_mtx = confusion_matrix(Y_true, Y_pred_classes) \n",
    "f,ax = plt.subplots(figsize=(8, 8))\n",
    "sns.heatmap(confusion_mtx, annot=True, linewidths=0.01,cmap=\"Greens\",linecolor=\"gray\", fmt= '.1f',ax=ax)\n",
    "plt.xlabel(\"Tahmin Edilen \")\n",
    "plt.ylabel(\"Gerçek Değer\")\n",
    "plt.title(\"Karmaşıklık Matrisi\")\n",
    "plt.show()"
   ]
  },
  {
   "cell_type": "markdown",
   "metadata": {},
   "source": [
    "# Lineer regresyoN"
   ]
  },
  {
   "cell_type": "code",
   "execution_count": 101,
   "metadata": {},
   "outputs": [],
   "source": [
    "dataset=np.load('dataset.npy')\n",
    "y_train=np.load('y_train.npy')"
   ]
  },
  {
   "cell_type": "code",
   "execution_count": null,
   "metadata": {},
   "outputs": [],
   "source": [
    "from sklearn.model_selection import train_test_split\n",
    "#Splitting \n",
    "X_train, X_test, y_train, y_test = train_test_split(dataset, y_train, test_size=0.2, random_state=33)\n",
    "print(\"x train: \",X_train.shape)\n",
    "print(\"x test: \",X_test.shape)\n",
    "print(\"y train: \",y_train.shape)\n",
    "print(\"y test: \",y_test.shape)"
   ]
  },
  {
   "cell_type": "code",
   "execution_count": 132,
   "metadata": {},
   "outputs": [
    {
     "name": "stdout",
     "output_type": "stream",
     "text": [
      "8063 2016\n"
     ]
    }
   ],
   "source": [
    "number_of_train = X_train.shape[0]\n",
    "number_of_test = X_test.shape[0]\n",
    "print(number_of_train,number_of_test)"
   ]
  },
  {
   "cell_type": "code",
   "execution_count": 149,
   "metadata": {},
   "outputs": [],
   "source": [
    "x=len(y_train)\n",
    "y2_train=[]\n",
    "for i in range(0,x):\n",
    "    if y_train[i]==\"k\":\n",
    "        y2_train.append(1)\n",
    "    elif y_train[i]=='e':\n",
    "        y2_train.append(0)\n",
    "          \n",
    "        "
   ]
  },
  {
   "cell_type": "code",
   "execution_count": 121,
   "metadata": {},
   "outputs": [],
   "source": [
    "x=len(y_test)\n",
    "for i in range(0,x):\n",
    "    if y_test[i]=='k':\n",
    "        y_test[i]=1\n",
    "    else:\n",
    "        y_test[i]=0"
   ]
  },
  {
   "cell_type": "code",
   "execution_count": 152,
   "metadata": {},
   "outputs": [
    {
     "name": "stdout",
     "output_type": "stream",
     "text": [
      "[]\n"
     ]
    }
   ],
   "source": [
    "print(y2_train)"
   ]
  },
  {
   "cell_type": "code",
   "execution_count": 123,
   "metadata": {},
   "outputs": [
    {
     "name": "stdout",
     "output_type": "stream",
     "text": [
      "x train:  (8063, 64, 64, 3)\n",
      "x test:  (2016, 64, 64, 3)\n"
     ]
    },
    {
     "data": {
      "text/plain": [
       "'\\nfrom sklearn.preprocessing import LabelEncoder\\nimport numpy as np\\n\\ny_train = np.array(y_train)\\nlabel_encoder = LabelEncoder()\\nvec = label_encoder.fit_transform(y_train)\\ny_train = to_categorical(vec)\\n\\ny_test = np.array(y_test)\\nlabel_encoder = LabelEncoder()\\nvec1 = label_encoder.fit_transform(y_test)\\ny_test = to_categorical(vec1)\\n'"
      ]
     },
     "execution_count": 123,
     "metadata": {},
     "output_type": "execute_result"
    }
   ],
   "source": [
    "#reshape data to fit model\n",
    "\n",
    "from keras.utils import to_categorical\n",
    "\n",
    "x_train = X_train.reshape(8063 ,64,64,3)\n",
    "x_test = X_test.reshape(2016,64,64,3)\n",
    "print(\"x train: \",x_train.shape)\n",
    "print(\"x test: \",x_test.shape)\n",
    "\n",
    "\n",
    "#y_train = to_categorical(y_train)\n",
    "#y_test = to_categorical(y_test)\n",
    "\n",
    "y_train = pd.Categorical(y_train).codes\n",
    "y_test = pd.Categorical(y_test).codes\n",
    "\"\"\"\n",
    "from sklearn.preprocessing import LabelEncoder\n",
    "import numpy as np\n",
    "\n",
    "y_train = np.array(y_train)\n",
    "label_encoder = LabelEncoder()\n",
    "vec = label_encoder.fit_transform(y_train)\n",
    "y_train = to_categorical(vec)\n",
    "\n",
    "y_test = np.array(y_test)\n",
    "label_encoder = LabelEncoder()\n",
    "vec1 = label_encoder.fit_transform(y_test)\n",
    "y_test = to_categorical(vec1)\n",
    "\"\"\""
   ]
  },
  {
   "cell_type": "code",
   "execution_count": 124,
   "metadata": {},
   "outputs": [
    {
     "name": "stdout",
     "output_type": "stream",
     "text": [
      "X train flatten (8063, 12288)\n",
      "X test flatten (2016, 12288)\n"
     ]
    }
   ],
   "source": [
    "x_train_flatten = x_train.reshape(number_of_train,x_train.shape[1]*x_train.shape[2]*x_train.shape[3])\n",
    "x_test_flatten = x_test .reshape(number_of_test,x_test.shape[1]*x_test.shape[2]*x_test.shape[3])\n",
    "print(\"X train flatten\",x_train_flatten.shape)\n",
    "print(\"X test flatten\",x_test_flatten.shape)"
   ]
  },
  {
   "cell_type": "code",
   "execution_count": 125,
   "metadata": {},
   "outputs": [
    {
     "name": "stdout",
     "output_type": "stream",
     "text": [
      "x train:  (12288, 8063)\n",
      "x test:  (12288, 2016)\n",
      "y train:  (8063,)\n",
      "y test:  (2016,)\n"
     ]
    }
   ],
   "source": [
    "x_train = x_train_flatten.T\n",
    "x_test = x_test_flatten.T\n",
    "y_test = y_test.T\n",
    "y_train = y_train.T\n",
    "print(\"x train: \",x_train.shape)\n",
    "print(\"x test: \",x_test.shape)\n",
    "print(\"y train: \",y_train.shape)\n",
    "print(\"y test: \",y_test.shape)"
   ]
  },
  {
   "cell_type": "code",
   "execution_count": null,
   "metadata": {},
   "outputs": [],
   "source": [
    "from sklearn.linear_model import LogisticRegression\n",
    "from sklearn.model_selection import GridSearchCV\n",
    "grid={\"C\":(1,2),\"penalty\":[\"l1\",\"l2\"]},    #np.logspace\n",
    "logistic_regression=LogisticRegression(random_state=21)\n",
    "log_reg_cv=GridSearchCV(logistic_regression,grid,cv=2)\n",
    "log_reg_cv.fit(x_train.T,y_train.T)\n",
    "#logistic_regression.fit(x_train.T,y_train.T)"
   ]
  }
 ],
 "metadata": {
  "kernelspec": {
   "display_name": "Python 3",
   "language": "python",
   "name": "python3"
  },
  "language_info": {
   "codemirror_mode": {
    "name": "ipython",
    "version": 3
   },
   "file_extension": ".py",
   "mimetype": "text/x-python",
   "name": "python",
   "nbconvert_exporter": "python",
   "pygments_lexer": "ipython3",
   "version": "3.7.0"
  }
 },
 "nbformat": 4,
 "nbformat_minor": 2
}
