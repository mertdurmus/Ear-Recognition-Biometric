{
 "cells": [
  {
   "cell_type": "code",
   "execution_count": 1,
   "metadata": {},
   "outputs": [],
   "source": [
    "import sys\n",
    "import cv2\n",
    "import imutils\n",
    "import numpy as np "
   ]
  },
  {
   "cell_type": "code",
   "execution_count": 51,
   "metadata": {},
   "outputs": [
    {
     "name": "stderr",
     "output_type": "stream",
     "text": [
      "usage: ipykernel_launcher.py [-h] [--input INPUT]\n",
      "ipykernel_launcher.py: error: unrecognized arguments: -f C:\\Users\\mert5\\AppData\\Roaming\\jupyter\\runtime\\kernel-ed3dfd56-997b-4289-9d66-4cf724463e0f.json\n"
     ]
    },
    {
     "ename": "SystemExit",
     "evalue": "2",
     "output_type": "error",
     "traceback": [
      "An exception has occurred, use %tb to see the full traceback.\n",
      "\u001b[1;31mSystemExit\u001b[0m\u001b[1;31m:\u001b[0m 2\n"
     ]
    },
    {
     "name": "stderr",
     "output_type": "stream",
     "text": [
      "C:\\Users\\mert5\\Anaconda3\\lib\\site-packages\\IPython\\core\\interactiveshell.py:2969: UserWarning: To exit: use 'exit', 'quit', or Ctrl-D.\n",
      "  warn(\"To exit: use 'exit', 'quit', or Ctrl-D.\", stacklevel=1)\n"
     ]
    }
   ],
   "source": [
    "from __future__ import print_function\n",
    "import cv2 as cv\n",
    "import numpy as np\n",
    "import argparse\n",
    "import random as rng\n",
    "\n",
    "def nothing(x):\n",
    "    pass\n",
    "def thresh_callback(val,val2):\n",
    "    threshold = val\n",
    "    threshold2 = val2\n",
    "    #threshold2 = val2\n",
    "    # Detect edges using Canny\n",
    "    #canny_output = cv.Canny(src_gray, threshold, threshold * 2)\n",
    "    ret,thresh = cv.threshold(src_gray,threshold2, threshold,0)\n",
    "    # Find contours\n",
    "    contours, hierarchy = cv.findContours(thresh, cv.RETR_TREE, cv.CHAIN_APPROX_SIMPLE)\n",
    "    # Draw contours\n",
    "    drawing = np.zeros((thresh.shape[0], thresh.shape[1], 3), dtype=np.uint8)\n",
    "    for i in range(len(contours)):\n",
    "        color = (rng.randint(0,256), rng.randint(0,256), rng.randint(0,256))\n",
    "        cv.drawContours(drawing, contours, i, color, 2, cv.LINE_8, hierarchy, 0)\n",
    "    # Show in a window\n",
    "    cv.imshow('Contours', drawing)\n",
    "\n",
    "# Load source image\n",
    "parser = argparse.ArgumentParser(description='Code for Finding contours in your image tutorial.')\n",
    "parser.add_argument('--input', help='Path to input image.', default='k.jpg')\n",
    "args = parser.parse_args()\n",
    "src = cv.imread(cv.samples.findFile(args.input))\n",
    "if src is None:\n",
    "    print('Could not open or find the image:', args.input)\n",
    "    exit(0)\n",
    "# Convert image to gray and blur it\n",
    "src_gray = cv.cvtColor(src, cv.COLOR_BGR2GRAY)\n",
    "src_gray = cv.blur(src_gray, (3,3))\n",
    "# Create Window\n",
    "source_window = 'Source'\n",
    "cv.namedWindow(source_window)\n",
    "cv.imshow(source_window, src)\n",
    "max_thresh = 255\n",
    "thresh = 100 # initial threshold\n",
    "thresh2 = 100 # initial threshold\n",
    "cv.createTrackbar('Canny', source_window, thresh, max_thresh, nothing)\n",
    "cv.createTrackbar('Canny2', source_window, thresh2, max_thresh, nothing)\n",
    "thresh_callback(thresh,thresh2)\n",
    "\n",
    "\n",
    "while True:\n",
    "    k = cv.waitKey(10)\n",
    "    r = cv.getTrackbarPos('Canny',source_window)\n",
    "    g = cv.getTrackbarPos('Canny2',source_window)\n",
    "    print(r,g)\n",
    "    thresh_callback(r,g)\n",
    " \n",
    "    \n",
    "    #press esc on keyboard to exit\n",
    "    if k == 27:\n",
    "        break\n",
    "\n",
    "#close all the opened windows\n",
    "cv.destroyAllWindows()"
   ]
  },
  {
   "cell_type": "code",
   "execution_count": 33,
   "metadata": {},
   "outputs": [
    {
     "name": "stdout",
     "output_type": "stream",
     "text": [
      "Number of Contours found = 2393\n"
     ]
    }
   ],
   "source": [
    "# path to input image is specified and   \n",
    "# image is loaded with imread command  \n",
    "image1 = cv2.imread('k.jpg')  \n",
    "image2 = cv2.imread('r.png')   \n",
    "# cv2.cvtColor is applied over the \n",
    "# image input with applied parameters \n",
    "# to convert the image in grayscale  \n",
    "img = cv2.cvtColor(image1, cv2.COLOR_BGR2GRAY) \n",
    "img2 = cv2.cvtColor(image2, cv2.COLOR_BGR2GRAY)   \n",
    "# applying different thresholding  \n",
    "# techniques on the input image \n",
    "thresh1 = cv2.adaptiveThreshold(img, 255, cv2.ADAPTIVE_THRESH_MEAN_C, \n",
    "                                          cv2.THRESH_BINARY_INV, 11, 11) \n",
    "  \n",
    "thresh2 = cv2.adaptiveThreshold(img2, 255, cv2.ADAPTIVE_THRESH_GAUSSIAN_C, \n",
    "                                          cv2.THRESH_BINARY_INV, 155, 25) \n",
    "contours, hierarchy = cv2.findContours(thresh1,cv2.RETR_TREE,cv2.CHAIN_APPROX_SIMPLE)\n",
    "cv2.drawContours(img, contours, -1, (0, 255, 0), 3)\n",
    "cv2.imshow('Contours', img) \n",
    "#contours1, hierarchy1 = cv2.findContours(thresh2,cv2.RETR_TREE,cv2.CHAIN_APPROX_SIMPLE)\n",
    "#cv2.drawContours(img2, contours1, -1, (0, 255, 0), 3)\n",
    "#cv2.imshow('Contours2', img2)\n",
    "cv2.waitKey(0) \n",
    "cv2.destroyAllWindows()  \n",
    "print(\"Number of Contours found = \" + str(len(contours))) \n",
    "#print(\"Number of Contours1 found = \" + str(len(contours1))) "
   ]
  },
  {
   "cell_type": "code",
   "execution_count": 67,
   "metadata": {},
   "outputs": [
    {
     "name": "stdout",
     "output_type": "stream",
     "text": [
      "Number of Contours found = 150\n"
     ]
    }
   ],
   "source": [
    "img = cv2.imread('k.jpg',0)\n",
    "ret,thresh = cv2.threshold(img,175,100,0)\n",
    "contours,hierarchy = cv2.findContours(thresh, cv2.RETR_CCOMP, cv2.CHAIN_APPROX_SIMPLE)\n",
    "cv2.drawContours(img, contours, -1, (0, 255, 0), 3)\n",
    "cv2.imshow('Contours', img) \n",
    "cv2.waitKey(0) \n",
    "cv2.destroyAllWindows() \n",
    "print(\"Number of Contours found = \" + str(len(contours))) "
   ]
  },
  {
   "cell_type": "code",
   "execution_count": 68,
   "metadata": {},
   "outputs": [
    {
     "name": "stdout",
     "output_type": "stream",
     "text": [
      "0.0\n",
      "0.0\n",
      "0.0\n",
      "0.0\n",
      "0.0\n",
      "0.0\n",
      "3.0\n",
      "0.0\n",
      "0.0\n",
      "0.0\n",
      "0.0\n",
      "0.0\n",
      "0.0\n",
      "0.0\n",
      "0.0\n",
      "0.0\n",
      "0.0\n",
      "0.0\n",
      "0.0\n",
      "0.0\n",
      "0.0\n",
      "0.0\n",
      "0.0\n",
      "0.0\n",
      "0.0\n",
      "0.0\n",
      "0.0\n",
      "0.0\n",
      "0.0\n",
      "0.0\n",
      "0.0\n",
      "0.0\n",
      "0.0\n",
      "0.0\n",
      "0.0\n",
      "0.0\n",
      "0.0\n",
      "0.0\n",
      "0.0\n",
      "0.0\n",
      "2.5\n",
      "26754.0\n",
      "2.0\n",
      "7.5\n",
      "2.0\n",
      "2.0\n",
      "15.0\n",
      "2.0\n",
      "7.0\n",
      "2.0\n",
      "2.0\n",
      "2.0\n",
      "2.0\n",
      "7.0\n",
      "2.0\n",
      "2.0\n",
      "2.0\n",
      "4.0\n",
      "7.5\n",
      "2.0\n",
      "2.0\n",
      "2.0\n",
      "2.0\n",
      "23.5\n",
      "4.0\n",
      "23.0\n",
      "2.0\n",
      "2.0\n",
      "4.0\n",
      "4.0\n",
      "4.0\n",
      "4.0\n",
      "2.0\n",
      "6.0\n",
      "8.5\n",
      "4.0\n",
      "4.0\n",
      "11.5\n",
      "2.0\n",
      "2.0\n",
      "14.5\n",
      "6.0\n",
      "14.5\n",
      "15.0\n",
      "2.0\n",
      "2.0\n",
      "11.0\n",
      "4.0\n",
      "7.0\n",
      "2.0\n",
      "6.0\n",
      "6.0\n",
      "2.0\n",
      "8.5\n",
      "2.0\n",
      "2.0\n",
      "2.0\n",
      "4.0\n",
      "5.5\n",
      "2.0\n",
      "8.0\n",
      "15.0\n",
      "6.0\n",
      "2.0\n",
      "5.5\n",
      "2.0\n",
      "2.0\n",
      "2.0\n",
      "2.0\n",
      "4.0\n",
      "2.0\n",
      "2.0\n",
      "2.0\n",
      "2.0\n",
      "6.0\n",
      "2.0\n",
      "2.0\n",
      "2.0\n",
      "7.0\n",
      "4.0\n",
      "2.0\n",
      "2.0\n",
      "4.0\n",
      "2.0\n",
      "2.0\n",
      "4.0\n",
      "2.0\n",
      "728.0\n",
      "17.0\n",
      "2.0\n",
      "2.0\n",
      "5.5\n",
      "4.0\n",
      "6.0\n",
      "2.0\n",
      "2.0\n",
      "6.0\n",
      "8.0\n",
      "2.0\n",
      "8.0\n",
      "6.0\n",
      "6.0\n",
      "4.0\n",
      "4.0\n",
      "2.0\n",
      "20.0\n",
      "2.0\n",
      "2.0\n",
      "2.0\n",
      "4.0\n"
     ]
    }
   ],
   "source": [
    "contur=[]\n",
    "x=len(contours)\n",
    "for k in range(0,x):\n",
    "    area=cv2.contourArea(contours[k])\n",
    "    print(area)\n",
    "    if area > 2000:\n",
    "        contur.append(contours[k])"
   ]
  },
  {
   "cell_type": "code",
   "execution_count": 69,
   "metadata": {},
   "outputs": [
    {
     "name": "stdout",
     "output_type": "stream",
     "text": [
      "Number of Contours found = 1\n"
     ]
    }
   ],
   "source": [
    "print(\"Number of Contours found = \" + str(len(contur))) "
   ]
  },
  {
   "cell_type": "code",
   "execution_count": 78,
   "metadata": {},
   "outputs": [
    {
     "data": {
      "text/plain": [
       "-1"
      ]
     },
     "execution_count": 78,
     "metadata": {},
     "output_type": "execute_result"
    }
   ],
   "source": [
    "import numpy as np\n",
    "import cv2\n",
    "import random as rp\n",
    "\n",
    "\n",
    "def ransac_ellipse(iter, srcimg, x, y):\n",
    "\n",
    "    x_size = np.size(x)\n",
    "    best_count = x_size\n",
    "    for i in range(iter):\n",
    "\n",
    "        base = srcimg.copy()\n",
    "\n",
    "        # get 5 random points\n",
    "        r1 = int(rp.random() * x_size)\n",
    "        r2 = int(rp.random() * x_size)  \n",
    "        r3 = int(rp.random() * x_size)\n",
    "        r4 = int(rp.random() * x_size)\n",
    "        r5 = int(rp.random() * x_size)  \n",
    "\n",
    "        p1 = (x[r1],y[r1])\n",
    "        p2 = (x[r2],y[r2])\n",
    "        p3 = (x[r3],y[r3])\n",
    "        p4 = (x[r4],y[r4])\n",
    "        p5 = (x[r5],y[r5])\n",
    "\n",
    "        p_set = np.array((p1,p2,p3,p4,p5))\n",
    "\n",
    "        # fit ellipse\n",
    "        ellipse = cv2.fitEllipse(p_set)\n",
    "\n",
    "        # remove intersected ellipse\n",
    "        cv2.ellipse(base,ellipse,(0),1)\n",
    "\n",
    "        # count remain\n",
    "        local_count = cv2.countNonZero(base)\n",
    "\n",
    "        # if count is smaller than best, update\n",
    "        if local_count < best_count:\n",
    "            best_count = local_count\n",
    "            best_ellipse = ellipse\n",
    "\n",
    "\n",
    "    return best_ellipse\n",
    "\n",
    "img = cv2.imread('k.jpg',0)\n",
    "\n",
    "# Speed up and remove noise\n",
    "small = cv2.resize(img,(0,0),fx = 0.25,fy = 0.25)\n",
    "\n",
    "# remove remaining noise\n",
    "median = cv2.medianBlur(small,21)\n",
    "\n",
    "# get canny edge\n",
    "edge = cv2.Canny(median,180,20)\n",
    "\n",
    "\n",
    "cv2.imshow(\"Edge\",edge)\n",
    "\n",
    "\n",
    "# obtain the non zero locations\n",
    "y, x = np.where(edge > 0)\n",
    "# ransac ellipse to get the outter circle\n",
    "ellipse1 = ransac_ellipse(10000,edge,x,y)\n",
    "\n",
    "\n",
    "# remove the outter circle\n",
    "cv2.ellipse(edge,ellipse1,(0),2)\n",
    "\n",
    "# ransac ellipse to get the inner circle\n",
    "y, x = np.where(edge > 0)\n",
    "ellipse2 = ransac_ellipse(10000,edge,x,y)\n",
    "\n",
    "disp = cv2.cvtColor(small,cv2.COLOR_GRAY2BGR)\n",
    "cv2.ellipse(disp,ellipse1,(0,0,255),1)\n",
    "cv2.ellipse(disp,ellipse2,(0,0,255),1)\n",
    "\n",
    "\n",
    "cv2.imshow(\"result\",disp)\n",
    "cv2.waitKey(0)"
   ]
  },
  {
   "cell_type": "code",
   "execution_count": 2,
   "metadata": {},
   "outputs": [
    {
     "data": {
      "text/plain": [
       "-1"
      ]
     },
     "execution_count": 2,
     "metadata": {},
     "output_type": "execute_result"
    }
   ],
   "source": [
    "img = cv2.imread('k.jpg',0)\n",
    "\n",
    "# Speed up and remove noise\n",
    "small = cv2.resize(img,(0,0),fx = 2,fy = 2)\n",
    "\n",
    "# remove remaining noise\n",
    "median = cv2.medianBlur(small,31)\n",
    "\n",
    "# get canny edge\n",
    "edge = cv2.Canny(median,180,20)\n",
    "\n",
    "\n",
    "cv2.imshow(\"Edge\",edge)\n",
    "cv2.waitKey(0)"
   ]
  },
  {
   "cell_type": "code",
   "execution_count": 3,
   "metadata": {},
   "outputs": [
    {
     "name": "stdout",
     "output_type": "stream",
     "text": [
      "Number of Contours found = 3\n"
     ]
    }
   ],
   "source": [
    "im2 = cv2.imread('k.jpg',0)\n",
    "im = cv2.resize(im2,(0,0),fx = 2,fy = 2)\n",
    "contours,hierarchy = cv2.findContours(edge, cv2.RETR_TREE, cv2.CHAIN_APPROX_SIMPLE)\n",
    "cv2.drawContours(im, contours, -1, (0, 255, 0), 3)\n",
    "cv2.imshow('Contours', im) \n",
    "cv2.waitKey(0) \n",
    "cv2.destroyAllWindows() \n",
    "print(\"Number of Contours found = \" + str(len(contours)))"
   ]
  },
  {
   "cell_type": "code",
   "execution_count": 4,
   "metadata": {},
   "outputs": [
    {
     "name": "stdout",
     "output_type": "stream",
     "text": [
      "3\n",
      "area:  74.5\n",
      "304.5\n"
     ]
    }
   ],
   "source": [
    "img3 = cv2.imread('k.jpg')\n",
    "img3 = cv2.resize(img3,(0,0),fx = 2,fy = 2)\n",
    "x=len(contours)\n",
    "print(x)\n",
    "for k in range(0,x-1):\n",
    "    if k==x:\n",
    "        break\n",
    "    else:        \n",
    "        area=cv2.contourArea(contours[k])\n",
    "        area2=cv2.contourArea(contours[k+1])\n",
    "        \n",
    "        if area2 > area:\n",
    "            print(area2)\n",
    "            dıskontur=contours[k+1]\n",
    "            ickontur=contours[k]\n",
    "        else:\n",
    "            print(\"area: \",area)\n",
    "            dıskontur=contours[k]\n",
    "            ickontur=contours[k+1]\n",
    "        \n",
    "cv2.drawContours(img3, contours, -1, (0, 255, 0), 3)\n",
    "#cv2.drawContours(img3, ickontur, -1, (0,255,0), 3)   \n",
    "cv2.imshow('Contours', img3) \n",
    "cv2.waitKey(0) \n",
    "cv2.destroyAllWindows() "
   ]
  },
  {
   "cell_type": "code",
   "execution_count": null,
   "metadata": {},
   "outputs": [],
   "source": []
  },
  {
   "cell_type": "code",
   "execution_count": null,
   "metadata": {},
   "outputs": [],
   "source": []
  },
  {
   "cell_type": "code",
   "execution_count": null,
   "metadata": {},
   "outputs": [],
   "source": []
  },
  {
   "cell_type": "code",
   "execution_count": null,
   "metadata": {},
   "outputs": [],
   "source": []
  },
  {
   "cell_type": "code",
   "execution_count": null,
   "metadata": {},
   "outputs": [],
   "source": []
  },
  {
   "cell_type": "code",
   "execution_count": null,
   "metadata": {},
   "outputs": [],
   "source": []
  },
  {
   "cell_type": "code",
   "execution_count": null,
   "metadata": {},
   "outputs": [],
   "source": []
  },
  {
   "cell_type": "code",
   "execution_count": null,
   "metadata": {},
   "outputs": [],
   "source": []
  },
  {
   "cell_type": "code",
   "execution_count": null,
   "metadata": {},
   "outputs": [],
   "source": []
  },
  {
   "cell_type": "code",
   "execution_count": null,
   "metadata": {},
   "outputs": [],
   "source": []
  }
 ],
 "metadata": {
  "kernelspec": {
   "display_name": "Python 3",
   "language": "python",
   "name": "python3"
  },
  "language_info": {
   "codemirror_mode": {
    "name": "ipython",
    "version": 3
   },
   "file_extension": ".py",
   "mimetype": "text/x-python",
   "name": "python",
   "nbconvert_exporter": "python",
   "pygments_lexer": "ipython3",
   "version": "3.7.0"
  }
 },
 "nbformat": 4,
 "nbformat_minor": 2
}
