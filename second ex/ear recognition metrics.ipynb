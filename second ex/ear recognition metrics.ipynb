{
 "cells": [
  {
   "cell_type": "code",
   "execution_count": 2,
   "metadata": {},
   "outputs": [],
   "source": [
    "import sys\n",
    "import cv2\n",
    "import imutils\n",
    "import numpy as np "
   ]
  },
  {
   "cell_type": "markdown",
   "metadata": {},
   "source": [
    "# #resize image"
   ]
  },
  {
   "cell_type": "code",
   "execution_count": 4,
   "metadata": {},
   "outputs": [],
   "source": [
    "src = cv2.imread('5a.jpg')\n",
    "cv2.imshow('src', src)\n",
    "cv2.waitKey(0) \n",
    "cv2.destroyAllWindows() \n",
    "#percent by which the image is resized\n",
    "scale_percent = 20\n",
    "\n",
    "#calculate the 50 percent of original dimensions\n",
    "width = int(src.shape[1] * scale_percent / 100)\n",
    "height = int(src.shape[0] * scale_percent / 100)\n",
    "\n",
    "# dsize\n",
    "dsize = (width, height)\n",
    "\n",
    "# resize image\n",
    "output = cv2.resize(src, dsize)\n"
   ]
  },
  {
   "cell_type": "markdown",
   "metadata": {},
   "source": [
    "# resim oku contour bul"
   ]
  },
  {
   "cell_type": "code",
   "execution_count": 18,
   "metadata": {},
   "outputs": [
    {
     "name": "stdout",
     "output_type": "stream",
     "text": [
      "Number of Contours found = 94\n"
     ]
    }
   ],
   "source": [
    "img = cv2.imread('01.jpg',0)\n",
    "img2 = cv2.imread('01.jpg')\n",
    "img3 = cv2.imread('01.jpg')\n",
    "ret,thresh = cv2.threshold(img,125,100,0)\n",
    "contours,hierarchy = cv2.findContours(thresh, cv2.RETR_TREE, cv2.CHAIN_APPROX_SIMPLE)\n",
    "cv2.drawContours(img2, contours, -1, (0, 255, 0), 3)\n",
    "#cv2.drawContours(img2, contours, 4, (0,255,0), 3)   #4 iç\n",
    "#cv2.drawContours(img2, contours, 2, (0,255,0), 3)   #2 dış\n",
    "cv2.imshow('Contours', img2) \n",
    "cv2.waitKey(0) \n",
    "cv2.destroyAllWindows() \n",
    "print(\"Number of Contours found = \" + str(len(contours))) "
   ]
  },
  {
   "cell_type": "code",
   "execution_count": 3,
   "metadata": {},
   "outputs": [],
   "source": [
    "#cv2.imwrite('image.jpg', img2)\n",
    "img5 = cv2.imread('image.jpg')\n",
    "cv2.imshow('Contours', img5) \n",
    "cv2.waitKey(0) \n",
    "cv2.destroyAllWindows() "
   ]
  },
  {
   "cell_type": "markdown",
   "metadata": {},
   "source": [
    "# contour seç"
   ]
  },
  {
   "cell_type": "code",
   "execution_count": 20,
   "metadata": {},
   "outputs": [
    {
     "name": "stdout",
     "output_type": "stream",
     "text": [
      "0.0\n",
      "0.0\n",
      "3.5\n",
      "0.0\n",
      "0.0\n",
      "1.5\n",
      "0.0\n",
      "0.0\n",
      "0.0\n",
      "0.0\n",
      "0.0\n",
      "0.0\n",
      "0.0\n",
      "0.0\n",
      "0.0\n",
      "0.0\n",
      "0.0\n",
      "0.0\n",
      "0.0\n",
      "0.0\n",
      "0.0\n",
      "0.0\n",
      "0.0\n",
      "0.0\n",
      "0.0\n",
      "0.0\n",
      "0.0\n",
      "0.0\n",
      "0.0\n",
      "0.0\n",
      "0.0\n",
      "0.0\n",
      "0.0\n",
      "0.0\n",
      "1.0\n",
      "0.0\n",
      "0.0\n",
      "0.0\n",
      "0.0\n",
      "0.0\n",
      "0.0\n",
      "0.0\n",
      "0.0\n",
      "0.0\n",
      "0.0\n",
      "0.0\n",
      "0.0\n",
      "0.0\n",
      "0.0\n",
      "0.0\n",
      "0.0\n",
      "0.0\n",
      "51166.0\n",
      "4.0\n",
      "4.0\n",
      "4.0\n",
      "2.0\n",
      "11.5\n",
      "5.5\n",
      "4.0\n",
      "6.0\n",
      "4.0\n",
      "2.0\n",
      "38.5\n",
      "8.5\n",
      "2.0\n",
      "6.0\n",
      "28.0\n",
      "14.5\n",
      "7.0\n",
      "4.0\n",
      "5.5\n",
      "2.0\n",
      "2.0\n",
      "4.0\n",
      "2.0\n",
      "5.5\n",
      "2.0\n",
      "2.0\n",
      "9857.5\n",
      "0.5\n",
      "0.0\n",
      "0.0\n",
      "0.0\n",
      "0.0\n",
      "0.0\n",
      "0.0\n",
      "1.0\n",
      "151.5\n",
      "1.0\n",
      "9.5\n",
      "0.0\n",
      "0.5\n",
      "4305.0\n"
     ]
    }
   ],
   "source": [
    "contur=[]\n",
    "x=len(contours)\n",
    "for k in range(0,x):\n",
    "    area=cv2.contourArea(contours[k])\n",
    "    print(area)\n",
    "    if area > 4000:\n",
    "        contur.append(contours[k])\n",
    "        \n"
   ]
  },
  {
   "cell_type": "code",
   "execution_count": 29,
   "metadata": {},
   "outputs": [
    {
     "name": "stdout",
     "output_type": "stream",
     "text": [
      "Number of Contours found = 3\n"
     ]
    }
   ],
   "source": [
    "print(\"Number of Contours found = \" + str(len(contur))) "
   ]
  },
  {
   "cell_type": "code",
   "execution_count": 33,
   "metadata": {},
   "outputs": [],
   "source": [
    "#img4 = cv2.imread('01.jpg')\n",
    "img6 = cv2.imread('01.jpg')\n",
    "cv2.drawContours(img6, contur, 0,(0,255,0), 3)   \n",
    "cv2.imshow('Contours', img6) \n",
    "cv2.waitKey(0) \n",
    "cv2.destroyAllWindows() "
   ]
  },
  {
   "cell_type": "code",
   "execution_count": 34,
   "metadata": {},
   "outputs": [
    {
     "data": {
      "text/plain": [
       "True"
      ]
     },
     "execution_count": 34,
     "metadata": {},
     "output_type": "execute_result"
    }
   ],
   "source": [
    "cv2.imwrite('001.jpg', img4)\n",
    "cv2.imwrite('002.jpg', img5)\n",
    "cv2.imwrite('003.jpg', img6)"
   ]
  },
  {
   "cell_type": "code",
   "execution_count": 46,
   "metadata": {},
   "outputs": [],
   "source": [
    "#kontur 0 dıs, 1ve2 içler\n",
    "diskontur=contur[0]\n",
    "ickontur=contur[1]\n",
    "ickontur2=contur[2]\n"
   ]
  },
  {
   "cell_type": "code",
   "execution_count": 26,
   "metadata": {},
   "outputs": [
    {
     "name": "stdout",
     "output_type": "stream",
     "text": [
      "2\n",
      "area:  51047.5\n"
     ]
    }
   ],
   "source": [
    "x=len(contur)\n",
    "print(x)\n",
    "for k in range(0,x-1):\n",
    "    if k==x:\n",
    "        break\n",
    "    else:        \n",
    "        area=cv2.contourArea(contur[k])\n",
    "        area2=cv2.contourArea(contur[k+1])\n",
    "        \n",
    "        if area2 > area:\n",
    "            print(area2)\n",
    "            dıskontur=contur[k+1]\n",
    "            ickontur=contur[k]\n",
    "        else:\n",
    "            print(\"area: \",area)\n",
    "            dıskontur=contur[k]\n",
    "            ickontur=contur[k+1]\n",
    "        \n",
    "cv2.drawContours(img3, contur, -1, (0, 255, 0), 3)\n",
    "#cv2.drawContours(img3, ickontur, -1, (0,255,0), 3)   \n",
    "cv2.imshow('Contours', img3) \n",
    "cv2.waitKey(0) \n",
    "cv2.destroyAllWindows() "
   ]
  },
  {
   "cell_type": "markdown",
   "metadata": {},
   "source": [
    "# contour mesafeleri ölç en uzun çizgiyi bul"
   ]
  },
  {
   "cell_type": "code",
   "execution_count": 47,
   "metadata": {},
   "outputs": [],
   "source": [
    "import math  \n",
    "def calculateDistance(x1,y1,x2,y2):  \n",
    "     dist = math.sqrt((x2 - x1)**2 + (y2 - y1)**2)  \n",
    "     return dist "
   ]
  },
  {
   "cell_type": "code",
   "execution_count": 48,
   "metadata": {},
   "outputs": [],
   "source": [
    "mesafeler=[]\n",
    "mycontour = diskontur\n",
    "x=len(mycontour)\n",
    "for k in range(0,x):\n",
    "    for i in range(0,x):\n",
    "        x1=mycontour[k][0]\n",
    "        y1=x1[1]\n",
    "        x1=x1[0]\n",
    "        x2=mycontour[i][0]\n",
    "        y2=x2[1]\n",
    "        x2=x2[0]\n",
    "        distance=calculateDistance(x1,y1,x2,y2)\n",
    "        mesafeler.append([distance,x1,y1,x2,y2])"
   ]
  },
  {
   "cell_type": "code",
   "execution_count": 49,
   "metadata": {},
   "outputs": [
    {
     "name": "stdout",
     "output_type": "stream",
     "text": [
      "(130, 357) (50, 0)\n"
     ]
    }
   ],
   "source": [
    "x,a,b,c,d=max(mesafeler)\n",
    "px = (a, b)\n",
    "py = (c, d)\n",
    "print(px,py)"
   ]
  },
  {
   "cell_type": "code",
   "execution_count": 50,
   "metadata": {},
   "outputs": [],
   "source": [
    "#orta nokta \n",
    "x_m_point = int((a + c)/2)\n",
    "y_m_point = int((b + d)/2)\n",
    "p_middle=(x_m_point,y_m_point)\n",
    "p_line1=(0,y_m_point)\n",
    "p_line2=(x_m_point+100,y_m_point)"
   ]
  },
  {
   "cell_type": "markdown",
   "metadata": {},
   "source": [
    "# çiz"
   ]
  },
  {
   "cell_type": "code",
   "execution_count": 45,
   "metadata": {},
   "outputs": [],
   "source": [
    "img7 = cv2.imread('01.jpg')\n",
    "cv2.drawContours(img7, diskontur, -1, (0,255,0), 3)   \n",
    "cv2.imshow('Contours', img7) \n",
    "cv2.waitKey(0) \n",
    "cv2.destroyAllWindows() "
   ]
  },
  {
   "cell_type": "code",
   "execution_count": 53,
   "metadata": {},
   "outputs": [],
   "source": [
    "p1= px\n",
    "p2 =py\n",
    "p_middle=(x_m_point,y_m_point)\n",
    "p_line1=(0,y_m_point)\n",
    "p_line2=(x_m_point+150,y_m_point)\n",
    "\n",
    "\n",
    "\n",
    "\n",
    "\n",
    "theta = np.arctan2(p1[1]-p2[1], p1[0]-p2[0])\n",
    "endpt_x = int(p1[0] - 1000*np.cos(theta))\n",
    "endpt_y = int(p1[1] - 1000*np.sin(theta))\n",
    "cv2.line(img7, (p1[0], p1[1]), (endpt_x, endpt_y), 255, 2)\n",
    "cv2.line(img7,(p_line1[0], p_line1[1]), (p_line2[0], p_line2[1]), 255, 2)\n",
    "cv2.line(img7,(p_line1[0], (p_line1[1]+60)), (p_line2[0], (p_line2[1]+60)), 255, 2)\n",
    "cv2.line(img7,(p_line1[0], (p_line1[1]+120)), (p_line2[0], (p_line2[1]+120)), 255, 2)\n",
    "#cv2.line(image,(p_line1[0], (p_line1[1]+180)), (p_line2[0], (p_line2[1]+180)), 255, 2)\n",
    "cv2.line(img7,(p_line1[0], (p_line1[1]-60)), (p_line2[0], (p_line2[1]-60)), 255, 2)\n",
    "cv2.line(img7,(p_line1[0], (p_line1[1]-120)), (p_line2[0], (p_line2[1]-120)), 255, 2)\n",
    "cv2.imshow('Contours', img7) \n",
    "\n",
    "cv2.waitKey(0) \n",
    "cv2.destroyAllWindows() "
   ]
  },
  {
   "cell_type": "code",
   "execution_count": 32,
   "metadata": {},
   "outputs": [
    {
     "data": {
      "text/plain": [
       "True"
      ]
     },
     "execution_count": 32,
     "metadata": {},
     "output_type": "execute_result"
    }
   ],
   "source": [
    "cv2.imwrite('image3.jpg', img3)"
   ]
  },
  {
   "cell_type": "markdown",
   "metadata": {},
   "source": [
    "# kesişim noktalarını çıkar"
   ]
  },
  {
   "cell_type": "code",
   "execution_count": 54,
   "metadata": {},
   "outputs": [],
   "source": [
    "x=len(mycontour)\n",
    "list=[]\n",
    "for k in range(0,x):\n",
    "    for i in range(0,x):\n",
    "        x1=mycontour[k][0]\n",
    "        y1=x1[1]\n",
    "        x1=x1[0]\n",
    "        if y1==y_m_point:\n",
    "            list.append([x1,y1])\n",
    "        elif y1==(y_m_point-60):\n",
    "            list.append([x1,y1])\n",
    "        elif y1==(y_m_point+60):\n",
    "            list.append([x1,y1])\n",
    "        elif y1==(y_m_point-120):\n",
    "            list.append([x1,y1])\n",
    "        elif y1==(y_m_point+120):\n",
    "            list.append([x1,y1])"
   ]
  },
  {
   "cell_type": "code",
   "execution_count": 55,
   "metadata": {},
   "outputs": [
    {
     "name": "stdout",
     "output_type": "stream",
     "text": [
      "[32, 178]\n"
     ]
    }
   ],
   "source": [
    "print(list[5])"
   ]
  },
  {
   "cell_type": "code",
   "execution_count": 273,
   "metadata": {},
   "outputs": [],
   "source": [
    "result = set(x for l in list for x in l)"
   ]
  },
  {
   "cell_type": "code",
   "execution_count": 35,
   "metadata": {},
   "outputs": [
    {
     "name": "stdout",
     "output_type": "stream",
     "text": [
      "Unique Values :  [[  1 127]\n",
      " [  3 307]\n",
      " [  9 127]\n",
      " [ 10 127]\n",
      " [131 307]\n",
      " [132 307]\n",
      " [145  67]\n",
      " [171 247]]\n"
     ]
    }
   ],
   "source": [
    "list2=np.array(list)\n",
    "new_list = np.unique(list2, axis=0)\n",
    " \n",
    "print('Unique Values : ',new_list)"
   ]
  },
  {
   "cell_type": "code",
   "execution_count": 36,
   "metadata": {},
   "outputs": [],
   "source": [
    "new_list = []\n",
    "sett = set()\n",
    "#uniqueValues\n",
    "for item in list:\n",
    "    if item[1] not in sett:\n",
    "        sett.add(item[1])\n",
    "        new_list.append(item)\n",
    "    else:\n",
    "        pass"
   ]
  },
  {
   "cell_type": "code",
   "execution_count": 37,
   "metadata": {},
   "outputs": [
    {
     "name": "stdout",
     "output_type": "stream",
     "text": [
      "[[10, 127], [3, 307], [171, 247], [145, 67]]\n"
     ]
    }
   ],
   "source": [
    "print(new_list)\n",
    "k1=(new_list[0][0],new_list[0][1])\n",
    "k2=(new_list[1][0],new_list[1][1])\n",
    "k3=(new_list[2][0],new_list[2][1])\n",
    "k4=(new_list[3][0],new_list[3][1])"
   ]
  },
  {
   "cell_type": "markdown",
   "metadata": {},
   "source": [
    "# keşisim noktalarını çiiz"
   ]
  },
  {
   "cell_type": "code",
   "execution_count": 38,
   "metadata": {},
   "outputs": [],
   "source": [
    "p_middle=(x_m_point,y_m_point)\n",
    "cv2.line(img3, (p_middle[0],p_middle[1]), (k1[0], k1[1]), 255, 2)\n",
    "cv2.line(img3, (p_middle[0],p_middle[1]), (k2[0], k2[1]), 255, 2)\n",
    "cv2.line(img3, (p_middle[0],p_middle[1]), (k3[0], k3[1]), 255, 2)\n",
    "cv2.line(img3, (p_middle[0],p_middle[1]), (k4[0], k4[1]), 255, 2)\n",
    "\n",
    "cv2.imshow('imager', img3) \n",
    "\n",
    "cv2.waitKey(0) \n",
    "cv2.destroyAllWindows() "
   ]
  },
  {
   "cell_type": "markdown",
   "metadata": {},
   "source": [
    "# açı hesapla"
   ]
  },
  {
   "cell_type": "code",
   "execution_count": 39,
   "metadata": {},
   "outputs": [
    {
     "name": "stdout",
     "output_type": "stream",
     "text": [
      "90.0\n"
     ]
    }
   ],
   "source": [
    "import math\n",
    " \n",
    "def getAngle(a, b, c):\n",
    "    ang = math.degrees(math.atan2(c[1]-b[1], c[0]-b[0]) - math.atan2(a[1]-b[1], a[0]-b[0]))\n",
    "    return ang + 360 if ang < 0 else ang\n",
    " \n",
    "print(getAngle((5, 0), (0, 0), (0, 5)))"
   ]
  },
  {
   "cell_type": "code",
   "execution_count": 40,
   "metadata": {},
   "outputs": [
    {
     "name": "stdout",
     "output_type": "stream",
     "text": [
      "325.10233510259127\n",
      "211.2628981701886\n",
      "124.07733134165386\n",
      "40.45889187424731\n"
     ]
    }
   ],
   "source": [
    "print(getAngle((endpt_x, endpt_y),(x_m_point, y_m_point), (k1[0], k1[1])))\n",
    "print(getAngle((endpt_x, endpt_y),(x_m_point, y_m_point), (k2[0], k2[1])))\n",
    "print(getAngle((endpt_x, endpt_y),(x_m_point, y_m_point), (k3[0], k3[1])))\n",
    "print(getAngle((endpt_x, endpt_y),(x_m_point, y_m_point), (k4[0], k4[1])))\n",
    "angles=[]\n",
    "angles.append(getAngle((endpt_x, endpt_y),(x_m_point, y_m_point), (k1[0], k1[1])))\n",
    "angles.append(getAngle((endpt_x, endpt_y),(x_m_point, y_m_point), (k2[0], k2[1])))\n",
    "angles.append(getAngle((endpt_x, endpt_y),(x_m_point, y_m_point), (k3[0], k3[1])))\n",
    "angles.append(getAngle((endpt_x, endpt_y),(x_m_point, y_m_point), (k4[0], k4[1])))"
   ]
  },
  {
   "cell_type": "markdown",
   "metadata": {},
   "source": [
    "# first feature vector"
   ]
  },
  {
   "cell_type": "code",
   "execution_count": 41,
   "metadata": {},
   "outputs": [],
   "source": [
    "for i in range(0,len(angles)-1):\n",
    "    if int(angles[i])>180:\n",
    "        angles[i]=369- angles[i]\n",
    "    else:\n",
    "         angles[i]= angles[i]"
   ]
  },
  {
   "cell_type": "code",
   "execution_count": 42,
   "metadata": {},
   "outputs": [
    {
     "name": "stdout",
     "output_type": "stream",
     "text": [
      "[43.89766489740873, 157.7371018298114, 124.07733134165386, 40.45889187424731]\n"
     ]
    }
   ],
   "source": [
    "print(angles)\n",
    "#angles is my first feature vector"
   ]
  },
  {
   "cell_type": "markdown",
   "metadata": {},
   "source": [
    "# second feature vector"
   ]
  },
  {
   "cell_type": "code",
   "execution_count": 61,
   "metadata": {},
   "outputs": [],
   "source": [
    "#iç kontur\n",
    "#ickontur=contur[1]\n",
    "#ickontur2=contur[2]\n",
    "#mycntr=np.append([ickontur.])\n",
    "#mycntr=np.append([ickontur2],axis=0)\n",
    "mycntr=ickontur\n",
    "mycntr2=ickontur2"
   ]
  },
  {
   "cell_type": "markdown",
   "metadata": {},
   "source": [
    "# çiz "
   ]
  },
  {
   "cell_type": "code",
   "execution_count": 59,
   "metadata": {},
   "outputs": [],
   "source": [
    "img8 = cv2.imread('01.jpg')\n",
    "cv2.line(img8, (p1[0], p1[1]), (endpt_x, endpt_y), 255, 2)\n",
    "cv2.line(img8,(p_line1[0], p_line1[1]), (p_line2[0], p_line2[1]), 255, 2)\n",
    "cv2.line(img8,(p_line1[0], (p_line1[1]+60)), (p_line2[0], (p_line2[1]+60)), 255, 2)\n",
    "cv2.line(img8,(p_line1[0], (p_line1[1]+120)), (p_line2[0], (p_line2[1]+120)), 255, 2)\n",
    "cv2.line(img8,(p_line1[0], (p_line1[1]-60)), (p_line2[0], (p_line2[1]-60)), 255, 2)\n",
    "cv2.line(img8,(p_line1[0], (p_line1[1]-120)), (p_line2[0], (p_line2[1]-120)), 255, 2)\n",
    "cv2.imshow('Contours', img8) \n",
    "\n",
    "cv2.waitKey(0) \n",
    "cv2.destroyAllWindows() \n"
   ]
  },
  {
   "cell_type": "code",
   "execution_count": 62,
   "metadata": {},
   "outputs": [],
   "source": [
    "#cv2.drawContours(img8, ickontur, -1, (0,255,0), 3)   \n",
    "#cv2.drawContours(img8, ickontur2, -1, (0,255,0), 3)  \n",
    "cv2.imshow('Contours', img8) \n",
    "cv2.waitKey(0) \n",
    "cv2.destroyAllWindows() "
   ]
  },
  {
   "cell_type": "markdown",
   "metadata": {},
   "source": [
    "# kesişim noktsalarını bul ikinci vektör için"
   ]
  },
  {
   "cell_type": "code",
   "execution_count": 63,
   "metadata": {},
   "outputs": [],
   "source": [
    "#merkez  p_middle=(x_m_point,y_m_point)\n",
    "\n",
    "x=len(mycntr)\n",
    "list2=[]\n",
    "for k in range(0,x):\n",
    "    for i in range(0,x):\n",
    "        x1=mycntr[k][0]\n",
    "        y1=x1[1]\n",
    "        x1=x1[0]\n",
    "        if y1==y_m_point:\n",
    "            list2.append([x1,y1])\n",
    "        elif y1==(y_m_point-60):\n",
    "            list2.append([x1,y1])\n",
    "        elif y1==(y_m_point+60):\n",
    "            list2.append([x1,y1])\n",
    "        elif y1==(y_m_point-120):\n",
    "            list2.append([x1,y1])\n",
    "        elif y1==(y_m_point+120):\n",
    "            list2.append([x1,y1])"
   ]
  },
  {
   "cell_type": "code",
   "execution_count": 66,
   "metadata": {},
   "outputs": [
    {
     "name": "stdout",
     "output_type": "stream",
     "text": [
      "[107, 118]\n"
     ]
    }
   ],
   "source": [
    "print(list2[4])"
   ]
  },
  {
   "cell_type": "code",
   "execution_count": 67,
   "metadata": {},
   "outputs": [
    {
     "name": "stdout",
     "output_type": "stream",
     "text": [
      "Unique Values :  [[ 56 118]\n",
      " [ 79 178]\n",
      " [ 84 238]\n",
      " [107 118]\n",
      " [108 238]\n",
      " [109 118]\n",
      " [111 238]\n",
      " [114 238]\n",
      " [148 238]\n",
      " [150 238]]\n"
     ]
    }
   ],
   "source": [
    "list2=np.array(list2)\n",
    "new_list2 = np.unique(list2, axis=0)\n",
    " \n",
    "print('Unique Values : ',new_list2)"
   ]
  },
  {
   "cell_type": "code",
   "execution_count": 76,
   "metadata": {},
   "outputs": [
    {
     "name": "stdout",
     "output_type": "stream",
     "text": [
      "10\n"
     ]
    }
   ],
   "source": [
    "point_c=int(new_list2.size/2)\n",
    "print(point_c)"
   ]
  },
  {
   "cell_type": "code",
   "execution_count": 75,
   "metadata": {},
   "outputs": [],
   "source": [
    "#for i in range(point_c):\n",
    " #   k[i]=(new_list2[i][0],new_list2[i][1])\n"
   ]
  },
  {
   "cell_type": "code",
   "execution_count": 84,
   "metadata": {},
   "outputs": [],
   "source": [
    "\n",
    "#p_middle=(x_m_point,y_m_point)\n",
    "cv2.line(img8, (p_middle[0],p_middle[1]), (new_list2[0][0], new_list2[0][1]), 255, 2)\n",
    "cv2.line(img8, (p_middle[0],p_middle[1]), (new_list2[1][0], new_list2[1][1]), 255, 2)\n",
    "cv2.line(img8, (p_middle[0],p_middle[1]), (new_list2[2][0], new_list2[2][1]), 255, 2)\n",
    "cv2.line(img8, (p_middle[0],p_middle[1]), (new_list2[3][0], new_list2[3][1]), 255, 2)\n",
    "cv2.line(img8, (p_middle[0],p_middle[1]), (new_list2[4][0], new_list2[4][1]), 255, 2)\n",
    "cv2.line(img8, (p_middle[0],p_middle[1]), (new_list2[5][0], new_list2[5][1]), 255, 2)\n",
    "cv2.line(img8, (p_middle[0],p_middle[1]), (new_list2[6][0], new_list2[6][1]), 255, 2)\n",
    "cv2.line(img8, (p_middle[0],p_middle[1]), (new_list2[7][0], new_list2[7][1]), 255, 2)\n",
    "cv2.line(img8, (p_middle[0],p_middle[1]), (new_list2[8][0], new_list2[8][1]), 255, 2)\n",
    "cv2.line(img8, (p_middle[0],p_middle[1]), (new_list2[9][0], new_list2[9][1]), 255, 2)\n",
    "cv2.line(img8, (p_middle[0],p_middle[1]), (new_list3[0][0], new_list3[0][1]), 255, 2)\n",
    "cv2.line(img8, (p_middle[0],p_middle[1]), (new_list3[1][0], new_list3[1][1]), 255, 2)\n",
    "cv2.line(img8, (p_middle[0],p_middle[1]), (new_list3[2][0], new_list3[2][1]), 255, 2)\n",
    "\n",
    "cv2.imshow('imager', img8) \n",
    "cv2.waitKey(0) \n",
    "cv2.destroyAllWindows() "
   ]
  },
  {
   "cell_type": "markdown",
   "metadata": {},
   "source": [
    "# ikinci iç kontur"
   ]
  },
  {
   "cell_type": "code",
   "execution_count": 82,
   "metadata": {},
   "outputs": [],
   "source": [
    "x=len(mycntr2)\n",
    "list3=[]\n",
    "for k in range(0,x):\n",
    "    for i in range(0,x):\n",
    "        x1=mycntr2[k][0]\n",
    "        y1=x1[1]\n",
    "        x1=x1[0]\n",
    "        if y1==y_m_point:\n",
    "            list3.append([x1,y1])\n",
    "        elif y1==(y_m_point-60):\n",
    "            list3.append([x1,y1])\n",
    "        elif y1==(y_m_point+60):\n",
    "            list3.append([x1,y1])\n",
    "        elif y1==(y_m_point-120):\n",
    "            list3.append([x1,y1])\n",
    "        elif y1==(y_m_point+120):\n",
    "            list3.append([x1,y1])"
   ]
  },
  {
   "cell_type": "code",
   "execution_count": 83,
   "metadata": {},
   "outputs": [
    {
     "name": "stdout",
     "output_type": "stream",
     "text": [
      "Unique Values :  [[147 118]\n",
      " [164 118]\n",
      " [176 178]]\n"
     ]
    }
   ],
   "source": [
    "list3=np.array(list3)\n",
    "new_list3 = np.unique(list3, axis=0)\n",
    " \n",
    "print('Unique Values : ',new_list3)"
   ]
  },
  {
   "cell_type": "code",
   "execution_count": null,
   "metadata": {},
   "outputs": [],
   "source": [
    "#my second feaute vector is newlist2+newlist3"
   ]
  },
  {
   "cell_type": "code",
   "execution_count": 87,
   "metadata": {},
   "outputs": [
    {
     "ename": "TypeError",
     "evalue": "append() missing 1 required positional argument: 'values'",
     "output_type": "error",
     "traceback": [
      "\u001b[1;31m---------------------------------------------------------------------------\u001b[0m",
      "\u001b[1;31mTypeError\u001b[0m                                 Traceback (most recent call last)",
      "\u001b[1;32m<ipython-input-87-4d734877510c>\u001b[0m in \u001b[0;36m<module>\u001b[1;34m()\u001b[0m\n\u001b[1;32m----> 1\u001b[1;33m \u001b[0mvector2\u001b[0m\u001b[1;33m=\u001b[0m\u001b[0mnp\u001b[0m\u001b[1;33m.\u001b[0m\u001b[0mappend\u001b[0m\u001b[1;33m(\u001b[0m\u001b[1;33m[\u001b[0m\u001b[1;33m[\u001b[0m\u001b[1;36m147\u001b[0m\u001b[1;33m,\u001b[0m \u001b[1;36m118\u001b[0m\u001b[1;33m]\u001b[0m\u001b[1;33m,\u001b[0m\u001b[1;33m[\u001b[0m\u001b[1;36m164\u001b[0m\u001b[1;33m,\u001b[0m \u001b[1;36m118\u001b[0m\u001b[1;33m]\u001b[0m\u001b[1;33m,\u001b[0m \u001b[1;33m[\u001b[0m\u001b[1;36m176\u001b[0m\u001b[1;33m,\u001b[0m \u001b[1;36m178\u001b[0m\u001b[1;33m]\u001b[0m\u001b[1;33m,\u001b[0m\u001b[1;33m[\u001b[0m \u001b[1;36m56\u001b[0m\u001b[1;33m,\u001b[0m \u001b[1;36m118\u001b[0m\u001b[1;33m]\u001b[0m\u001b[1;33m,\u001b[0m\u001b[1;33m[\u001b[0m \u001b[1;36m79\u001b[0m\u001b[1;33m,\u001b[0m \u001b[1;36m178\u001b[0m\u001b[1;33m]\u001b[0m\u001b[1;33m,\u001b[0m\u001b[1;33m[\u001b[0m \u001b[1;36m84\u001b[0m\u001b[1;33m,\u001b[0m \u001b[1;36m238\u001b[0m\u001b[1;33m]\u001b[0m\u001b[1;33m,\u001b[0m \u001b[1;33m[\u001b[0m\u001b[1;36m107\u001b[0m\u001b[1;33m,\u001b[0m \u001b[1;36m118\u001b[0m\u001b[1;33m]\u001b[0m \u001b[1;33m,\u001b[0m\u001b[1;33m[\u001b[0m\u001b[1;36m108\u001b[0m\u001b[1;33m,\u001b[0m \u001b[1;36m238\u001b[0m\u001b[1;33m]\u001b[0m\u001b[1;33m,\u001b[0m \u001b[1;33m[\u001b[0m\u001b[1;36m109\u001b[0m\u001b[1;33m,\u001b[0m \u001b[1;36m118\u001b[0m\u001b[1;33m]\u001b[0m\u001b[1;33m,\u001b[0m\u001b[1;33m[\u001b[0m\u001b[1;36m111\u001b[0m\u001b[1;33m,\u001b[0m \u001b[1;36m238\u001b[0m\u001b[1;33m]\u001b[0m\u001b[1;33m,\u001b[0m\u001b[1;33m[\u001b[0m\u001b[1;36m114\u001b[0m\u001b[1;33m,\u001b[0m \u001b[1;36m238\u001b[0m\u001b[1;33m]\u001b[0m\u001b[1;33m,\u001b[0m \u001b[1;33m[\u001b[0m\u001b[1;36m148\u001b[0m\u001b[1;33m,\u001b[0m \u001b[1;36m238\u001b[0m\u001b[1;33m]\u001b[0m\u001b[1;33m,\u001b[0m\u001b[1;33m[\u001b[0m\u001b[1;36m150\u001b[0m\u001b[1;33m,\u001b[0m \u001b[1;36m238\u001b[0m\u001b[1;33m]\u001b[0m\u001b[1;33m]\u001b[0m\u001b[1;33m)\u001b[0m\u001b[1;33m\u001b[0m\u001b[0m\n\u001b[0m",
      "\u001b[1;31mTypeError\u001b[0m: append() missing 1 required positional argument: 'values'"
     ]
    }
   ],
   "source": [
    "#vector2=np.append([[147, 118],[164, 118], [176, 178],[ 56, 118],[ 79, 178],[ 84, 238], [107, 118] ,[108, 238], [109, 118],[111, 238],[114, 238], [148, 238],[150, 238]])"
   ]
  },
  {
   "cell_type": "code",
   "execution_count": 88,
   "metadata": {},
   "outputs": [],
   "source": [
    "vector=np.concatenate((new_list2, new_list3), axis=0)"
   ]
  },
  {
   "cell_type": "code",
   "execution_count": 89,
   "metadata": {},
   "outputs": [
    {
     "name": "stdout",
     "output_type": "stream",
     "text": [
      "[[ 56 118]\n",
      " [ 79 178]\n",
      " [ 84 238]\n",
      " [107 118]\n",
      " [108 238]\n",
      " [109 118]\n",
      " [111 238]\n",
      " [114 238]\n",
      " [148 238]\n",
      " [150 238]\n",
      " [147 118]\n",
      " [164 118]\n",
      " [176 178]]\n"
     ]
    }
   ],
   "source": [
    "print(vector)"
   ]
  },
  {
   "cell_type": "markdown",
   "metadata": {},
   "source": [
    "#sobel_horizontal = cv2.Sobel(src, cv2.CV_64F, 1, 0, ksize=5)\n",
    "#sobel_vertical = cv2.Sobel(src, cv2.CV_64F, 0, 1, ksize=5)\n",
    "laplacian = cv2.Laplacian(src, cv2.CV_64F)\n",
    "canny = cv2.Canny(src, 30, 150)\n",
    "#erosion = cv2.erode(src,kernel,iterations = 1)\n",
    "#dilation = cv2.dilate(src,kernel,iterations = 1)\n",
    "output = cv2.medianBlur(src, ksize=5)\n",
    "canny = cv2.Canny(output, 30, 150)\n",
    "cv2.imshow('src', canny)\n",
    "cv2.waitKey(0) \n",
    "cv2.destroyAllWindows() \n",
    "im = cv2.imread('9.jpg')\n",
    "imgray = cv2.cvtColor(im, cv2.COLOR_BGR2GRAY)\n",
    "edged = cv2.Canny(imgray, 45, 180) \n",
    "contours, hierarchy = cv2.findContours(edged, cv2.RETR_TREE, cv2.CHAIN_APPROX_SIMPLE)\n",
    "print(\"Number of Contours found = \" + str(len(contours))) \n",
    "cv2.imshow('Contours', edged) \n",
    "cv2.waitKey(0) \n",
    "img = cv2.drawContours(imgray, contours, 7, (0,255,0), 3)\n",
    "img = cv2.drawContours(imgray, contours, 6, (0,255,0), 3)\n",
    "cv2.imshow('Contours', img) \n",
    "cv2.waitKey(0) \n",
    "cv2.destroyAllWindows() \n",
    "#imaj=cv2.imread(\"anonymous.jpg\")\n",
    "image = cv2.imread('70.jpg') \n",
    "cv2.waitKey(0)  \n",
    "gray = cv2.cvtColor(image, cv2.COLOR_BGR2GRAY) \n",
    "cv2.imshow('Contours', gray) \n",
    "edged = cv2.Canny(gray, 40, 400) \n",
    "cv2.waitKey(0) \n",
    "\n",
    "contours, hierarchy = cv2.findContours(edged,  \n",
    "    cv2.RETR_EXTERNAL, cv2.CHAIN_APPROX_SIMPLE) \n",
    "  \n",
    "cv2.imshow('Canny Edges After Contouring', edged) \n",
    "cv2.waitKey(0) \n",
    "  \n",
    "print(\"Number of Contours found = \" + str(len(contours))) \n",
    "#print(contours)\n",
    "  \n",
    "# Draw all contours \n",
    "cv2.drawContours(image, contours, -1, (0, 255, 0), 3)\n",
    "#cv2.drawContours(image, contours[0], -1, (0, 255, 0), 3) \n",
    "#cv2.drawContours(image, contours[1], -1, (0, 255, 0), 3) \n",
    "#cv2.drawContours(image, contours[2], -1, (0, 255, 0), 3) \n",
    "#cv2.drawContours(image, contours[3], -1, (0, 255, 0), 3) \n",
    "#cv2.drawContours(image, contours[4], -1, (0, 255, 0), 3) \n",
    "#cv2.drawContours(image, contours[5], -1, (0, 255, 0), 3) \n",
    "\n",
    "#print(contours[1])\n",
    "#p1= px\n",
    "#p2 =py\n",
    "#p_middle=(x_m_point,y_m_point)\n",
    "#p_line1=(0,y_m_point)\n",
    "#p_line2=(x_m_point+100,y_m_point)\n",
    "\n",
    "#theta = np.arctan2(p1[1]-p2[1], p1[0]-p2[0])\n",
    "#endpt_x = int(p1[0] - 1000*np.cos(theta))\n",
    "#endpt_y = int(p1[1] - 1000*np.sin(theta))\n",
    "#cv2.line(image, (p1[0], p1[1]), (endpt_x, endpt_y), 255, 2)\n",
    "#cv2.line(image,(p_line1[0], p_line1[1]), (p_line2[0], p_line2[1]), 255, 2)\n",
    "#cv2.line(image,(p_line1[0], (p_line1[1]+60)), (p_line2[0], (p_line2[1]+60)), 255, 2)\n",
    "#cv2.line(image,(p_line1[0], (p_line1[1]+120)), (p_line2[0], (p_line2[1]+120)), 255, 2)\n",
    "#cv2.line(image,(p_line1[0], (p_line1[1]+180)), (p_line2[0], (p_line2[1]+180)), 255, 2)\n",
    "#cv2.line(image,(p_line1[0], (p_line1[1]-60)), (p_line2[0], (p_line2[1]-60)), 255, 2)\n",
    "#cv2.line(image,(p_line1[0], (p_line1[1]-120)), (p_line2[0], (p_line2[1]-120)), 255, 2)\n",
    "cv2.imshow('Contours', image) \n",
    "\n",
    "cv2.waitKey(0) \n",
    "cv2.destroyAllWindows() "
   ]
  }
 ],
 "metadata": {
  "kernelspec": {
   "display_name": "Python 3",
   "language": "python",
   "name": "python3"
  },
  "language_info": {
   "codemirror_mode": {
    "name": "ipython",
    "version": 3
   },
   "file_extension": ".py",
   "mimetype": "text/x-python",
   "name": "python",
   "nbconvert_exporter": "python",
   "pygments_lexer": "ipython3",
   "version": "3.7.0"
  }
 },
 "nbformat": 4,
 "nbformat_minor": 2
}
